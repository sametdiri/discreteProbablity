{
  "nbformat": 4,
  "nbformat_minor": 0,
  "metadata": {
    "colab": {
      "name": "Varyans.ipynb",
      "version": "0.3.2",
      "provenance": [],
      "include_colab_link": true
    },
    "kernelspec": {
      "name": "python3",
      "display_name": "Python 3"
    }
  },
  "cells": [
    {
      "cell_type": "markdown",
      "metadata": {
        "id": "view-in-github",
        "colab_type": "text"
      },
      "source": [
        "<a href=\"https://colab.research.google.com/github/sametdiri/discreteProbablity/blob/master/Varyans.ipynb\" target=\"_parent\"><img src=\"https://colab.research.google.com/assets/colab-badge.svg\" alt=\"Open In Colab\"/></a>"
      ]
    },
    {
      "cell_type": "markdown",
      "metadata": {
        "id": "JWHJm3BPpGHt",
        "colab_type": "text"
      },
      "source": [
        "# Varyans\n",
        "\n",
        "**Soru:**\n",
        "Ameliyat edilen hasta sayisi 10'dur, iyilesme olasiligi % 80'dir yani % 80 basarilidir.\n",
        "\n",
        "Ameliyet basari ile sonuclanacak hastalarin beklenen sayisi ve varyansi nedir?\n",
        "\n",
        "**Cozum:**\n",
        "\n",
        "X~Bin (n=10, p=0.8)\n",
        "\n",
        "E(X) = n*p = 10 * (0.8)\n",
        "\n",
        "Var(X) = n * p * (1 - p) = 10 * (0.8) * (0.2)"
      ]
    },
    {
      "cell_type": "code",
      "metadata": {
        "id": "MDxGckO8pFnM",
        "colab_type": "code",
        "colab": {
          "base_uri": "https://localhost:8080/",
          "height": 34
        },
        "outputId": "03194b1c-b813-40de-e854-5761535ded81"
      },
      "source": [
        "n = 10\n",
        "p = 0.8\n",
        "\n",
        "e = n * p\n",
        "var = n * p * (1 - p) \n",
        "print(\"beklenen deger: \", e, \"varyans:\", var)"
      ],
      "execution_count": 1,
      "outputs": [
        {
          "output_type": "stream",
          "text": [
            "beklenen deger:  8.0 varyans: 1.5999999999999996\n"
          ],
          "name": "stdout"
        }
      ]
    }
  ]
}