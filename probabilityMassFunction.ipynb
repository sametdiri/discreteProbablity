{
  "nbformat": 4,
  "nbformat_minor": 0,
  "metadata": {
    "colab": {
      "name": "Untitled0.ipynb",
      "version": "0.3.2",
      "provenance": [],
      "include_colab_link": true
    },
    "kernelspec": {
      "name": "python3",
      "display_name": "Python 3"
    }
  },
  "cells": [
    {
      "cell_type": "markdown",
      "metadata": {
        "id": "view-in-github",
        "colab_type": "text"
      },
      "source": [
        "<a href=\"https://colab.research.google.com/github/sametdiri/discreteProbablity/blob/master/probabilityMassFunction.ipynb\" target=\"_parent\"><img src=\"https://colab.research.google.com/assets/colab-badge.svg\" alt=\"Open In Colab\"/></a>"
      ]
    },
    {
      "cell_type": "markdown",
      "metadata": {
        "id": "_Mboddpct0FP",
        "colab_type": "text"
      },
      "source": [
        "##Soru\n",
        "\n",
        "X : 1 2 3\n",
        "\n",
        "P(X=x) : 3/7 2/7 2/7 (0.43, 0.28, 0.28)\n",
        "\n",
        "X rastgele degiskenine ait kesikli olasilik dagilimi verilmistir. Buna göre varyans nedir? ( Var[X]=? )\n",
        "\n",
        "##Çözüm\n",
        "\n",
        "Var[X] = E[X^2] - (E[X])^2\n",
        "\n",
        "E[X^2] = total x^2 * P(X=x)\n",
        "\n",
        "E[X] = total x * P(X=x)"
      ]
    },
    {
      "cell_type": "code",
      "metadata": {
        "id": "LE4iE4Vvtzcw",
        "colab_type": "code",
        "colab": {}
      },
      "source": [
        "\"\"\"\"\n",
        "degiskenler:\n",
        "variance: varyans hesaplayan fonksiyon\n",
        "ex1, ex2: beklenen degerler\n",
        "length: liste uzunlugu veya eleman sayisi\n",
        "num1, num2: carpma icin kullanilan sayilar\n",
        "distribution: olasilik dagilimi\n",
        "probability: olasiliklar\n",
        "var: hesaplanan varyans degeri\n",
        "\"\"\"\n",
        "def variance(list1,list2):\n",
        "    \n",
        "    length = len (list1)\n",
        "    ex1 = 0\n",
        "    for i in range(length):\n",
        "        num1 = int (list1[i])\n",
        "        num2 = float (list2[i])\n",
        "        ex1 = ex1 + num1*num1*num2\n",
        "\n",
        "    ex2 = 0\n",
        "    for i in range(length):\n",
        "        num1 = int (list1[i])\n",
        "        num2 = float (list2[i])\n",
        "        ex2 = ex2 + num1*num2\n",
        "    \n",
        "    var = ex1 - (ex2*ex2)\n",
        "\n",
        "    print (\"hesaplanan varyans: \",var)\n",
        "    \n",
        "    return 0\n",
        "\n",
        "distribution = ['1','2','3']\n",
        "probability = ['0.43','0.28','0.28']\n",
        "variance(distribution,probability)"
      ],
      "execution_count": 0,
      "outputs": []
    }
  ]
}