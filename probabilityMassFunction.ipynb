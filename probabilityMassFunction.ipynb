{
  "nbformat": 4,
  "nbformat_minor": 0,
  "metadata": {
    "colab": {
      "name": "probabilityMassFunction.ipynb",
      "version": "0.3.2",
      "provenance": [],
      "collapsed_sections": [],
      "include_colab_link": true
    },
    "kernelspec": {
      "name": "python3",
      "display_name": "Python 3"
    }
  },
  "cells": [
    {
      "cell_type": "markdown",
      "metadata": {
        "id": "view-in-github",
        "colab_type": "text"
      },
      "source": [
        "<a href=\"https://colab.research.google.com/github/sametdiri/discreteProbablity/blob/master/probabilityMassFunction.ipynb\" target=\"_parent\"><img src=\"https://colab.research.google.com/assets/colab-badge.svg\" alt=\"Open In Colab\"/></a>"
      ]
    },
    {
      "cell_type": "markdown",
      "metadata": {
        "id": "_Mboddpct0FP",
        "colab_type": "text"
      },
      "source": [
        "# **Olasılık Kütle Fonksiyonu**\n",
        "\n",
        "##Soru\n",
        "\n",
        "X : 1 2 3\n",
        "\n",
        "P(X=x) : 3/7 2/7 2/7 (0.43, 0.28, 0.28)\n",
        "\n",
        "X rastgele degiskenine ait kesikli olasilik dagilimi verilmistir.\n",
        "\n",
        "Buna göre varyans nedir? ( Var[X]=? )\n",
        "\n",
        "##Çözüm\n",
        "\n",
        "Var[X] = E[X^2] - (E[X])^2\n",
        "\n",
        "E[X^2] = total x^2 * P(X=x)\n",
        "\n",
        "E[X] = total x * P(X=x)"
      ]
    },
    {
      "cell_type": "code",
      "metadata": {
        "id": "LE4iE4Vvtzcw",
        "colab_type": "code",
        "colab": {
          "base_uri": "https://localhost:8080/",
          "height": 34
        },
        "outputId": "ab905807-e711-4c1e-e9f6-90eed71bebb0"
      },
      "source": [
        "def varyans(distribution,probability):\n",
        "    \n",
        "    listLength = len (distribution)\n",
        "    ex1 = 0\n",
        "    ex2 = 0\n",
        "    for i in range(listLength):\n",
        "        num1 = int (distribution[i])\n",
        "        num2 = float (probability[i])\n",
        "        ex1 = ex1 + num1*num1*num2\n",
        "        ex2 = ex2 + num1*num2\n",
        "    var = ex1 - (ex2*ex2)\n",
        "    print (\"hesaplanan varyans: \",var)\n",
        "\n",
        "distribution = ['1','2','3']\n",
        "probability = ['0.43','0.28','0.28']\n",
        "varyans(distribution,probability)"
      ],
      "execution_count": 4,
      "outputs": [
        {
          "output_type": "stream",
          "text": [
            "hesaplanan varyans:  0.7210999999999999\n"
          ],
          "name": "stdout"
        }
      ]
    }
  ]
}