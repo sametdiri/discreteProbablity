{
  "nbformat": 4,
  "nbformat_minor": 0,
  "metadata": {
    "colab": {
      "name": "Odev2_Kombinasyon.ipynb",
      "version": "0.3.2",
      "provenance": [],
      "include_colab_link": true
    },
    "kernelspec": {
      "name": "python3",
      "display_name": "Python 3"
    }
  },
  "cells": [
    {
      "cell_type": "markdown",
      "metadata": {
        "id": "view-in-github",
        "colab_type": "text"
      },
      "source": [
        "<a href=\"https://colab.research.google.com/github/sametdiri/discreteProbablity/blob/master/Odev2_Kombinasyon.ipynb\" target=\"_parent\"><img src=\"https://colab.research.google.com/assets/colab-badge.svg\" alt=\"Open In Colab\"/></a>"
      ]
    },
    {
      "metadata": {
        "id": "SXNs2ECeocZr",
        "colab_type": "text"
      },
      "cell_type": "markdown",
      "source": [
        "# KOMBİNASYON\n",
        "\n",
        "**n elemanlı bir kümenin elemanlarıyla oluşturulan grupların her birine kombinasyon adı verilir. **\n",
        "\n",
        "Kombinasyon aşağıdaki formül ile hesaplanmaktadır.\n",
        "\n",
        "> C(n,r) = n! / ((n–r)! * r!)\n",
        "\n",
        "Örneğin a,b,c,d harflerinden ikisiyle oluşturduğumuz a,b grubu ikili bir kombinasyondur. \n",
        "\n",
        "**Küme içinde elemanların sırası önemli değildir.**\n",
        "\n",
        "**ÖRNEK: **\n",
        "\n",
        "1, 2, 3, 4, 5 rakamlarıyla oluşturulabilecek tüm ikili kombinasyonları yazalım.\n",
        "\n",
        "**Çözüm: **\n",
        "\n",
        "{1,2} , {1,3} , {1,4} , {1,5} , {2,3} , {2,4} , {2,5} , {3,4} , {3,5} , {4,5}\n",
        "\n",
        "Görüldüğü gibi kombinasyonları yazarken {1,2} yazdıysak {2,1} yazmadık. 5 elemandan 10 adet 2’li kombinasyon oluşturabildik.\n",
        "\n",
        "# Geliştirilen Uygulama\n",
        "\n",
        "Kullanıcı tarafından girilen eleman sayısı kadar yine kullanıcının tanımladığı elemanların kombinasyonlarını oluşturan python kodu geliştirilmiştir."
      ]
    },
    {
      "metadata": {
        "id": "apRNuoOFoa1J",
        "colab_type": "code",
        "colab": {
          "base_uri": "https://localhost:8080/",
          "height": 102
        },
        "outputId": "667f5ebb-4b36-4428-bacd-c0e1851990d4"
      },
      "cell_type": "code",
      "source": [
        "def swap(array, i1, i2, swap_count):#Swap fonksiyonu\n",
        "    swap_count.append(\"\")\n",
        "    array[i1], array[i2] = array[i2], array[i1]\n",
        "\n",
        "def heaps_recursive(n, array, store, swap_count):#recursive \n",
        "    c = 0\n",
        "    if n == len(array):    #Orijinal dizi\n",
        "        store.append(\"\".join(array)) #sonuç dizisinin sonuna ekliyor\n",
        "    while True: #sonsuza kadar dön\n",
        "        if n > 2: #recursion işlemini yap\n",
        "            heaps_recursive(n-1, array, store, swap_count)\n",
        "        if n <= c + 1:#eleman sayısı bitince döngüyü kır\n",
        "            break\n",
        "        elif n % 2 == 1:\n",
        "            swap(array, 0, n-1, swap_count)\n",
        "        else:\n",
        "            swap(array, c, n-1, swap_count)\n",
        "        store.append(\"\".join(array))\n",
        "        c += 1\n",
        "\n",
        "sonuc=[]\n",
        "w=[]\n",
        "n = 0\n",
        "giris=[] #girilecek değerlerin tutulacağı boş dizi tanımlanıyor\n",
        "\n",
        "n=int(input('Kaç veri girilecek? '))\n",
        "#veriler string olabilir. her bir string ayrı bir eleman\n",
        "\n",
        "for i in range(n): #girilen sayı kadar veri topluyor\n",
        "    print(i+1, end='')\n",
        "    veri=input('. veri: ')\n",
        "    giris.append(veri) #klavyeden girilen verileri diziye ekliyor\n",
        "    \n",
        "heaps_recursive(len(giris),giris,sonuc,w) #fonksiyonun çağırıldığı kısım\n",
        "print(sonuc) #sonucu yazıyor"
      ],
      "execution_count": 1,
      "outputs": [
        {
          "output_type": "stream",
          "text": [
            "Kaç veri girilecek? 3\n",
            "1. veri: 1\n",
            "2. veri: 2\n",
            "3. veri: 3\n",
            "['123', '213', '312', '132', '231', '321']\n"
          ],
          "name": "stdout"
        }
      ]
    }
  ]
}