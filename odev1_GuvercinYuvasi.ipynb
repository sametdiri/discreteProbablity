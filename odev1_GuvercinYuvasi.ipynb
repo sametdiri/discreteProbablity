{
  "nbformat": 4,
  "nbformat_minor": 0,
  "metadata": {
    "colab": {
      "name": "odev1-GuvercinYuvasi.ipynb",
      "version": "0.3.2",
      "provenance": [],
      "collapsed_sections": [],
      "include_colab_link": true
    },
    "kernelspec": {
      "name": "python3",
      "display_name": "Python 3"
    }
  },
  "cells": [
    {
      "cell_type": "markdown",
      "metadata": {
        "id": "view-in-github",
        "colab_type": "text"
      },
      "source": [
        "<a href=\"https://colab.research.google.com/github/sametdiri/discreteProbablity/blob/master/odev1_GuvercinYuvasi.ipynb\" target=\"_parent\"><img src=\"https://colab.research.google.com/assets/colab-badge.svg\" alt=\"Open In Colab\"/></a>"
      ]
    },
    {
      "metadata": {
        "id": "nUf0JHlqIitm",
        "colab_type": "text"
      },
      "cell_type": "markdown",
      "source": [
        "# **Ayrık Sistemler İçin İleri Olasılık Dersi**\n",
        "\n",
        "**Hafta-2:** Sayma\n",
        "**Ödev: **1\n",
        "\n",
        "**Ödev Konusu: **Güvercin Yuvası\n",
        "\n",
        "**Örnek Kaynağı:** https://www.geeksforgeeks.org/discrete-mathematics-the-pigeonhole-principle/\n",
        "\n",
        "# **Örnek:**\n",
        "Bir torbada 10 kırmızı misket, 10 beyaz misket ve 10 mavi misket vardır.\n",
        "Torbadan rastgele seçilen 4 tane misketin aynı renk olması en az kaç misket seçilmeli?\n",
        "\n",
        "# **Çözüm:**\n",
        "\n",
        "**Renk Sayısı (Yuva):** n=3 \n",
        "\n",
        "**Misket Sayısı (Güvercin): ** K+1=4\n",
        "\n",
        "**Böylece en az gerekli misket sayısı: **Kn+1=10\n",
        "\n",
        "**Sağlaması: **\n",
        "(Kn+1)/n = 4 ise\n",
        "(Kn+1/3) = 4\n",
        "Kn+1 = 10'dur.\n",
        "\n",
        "**Örneğin; **\n",
        "3 kırmızı + 3 beyaz + 3 mavi + 1(kırmızı|beyaz|mavi) = 10\n",
        "\n",
        "**Example:**\n",
        "A bag contains 10 red marbles, 10 white marbles, and 10 blue marbles.\n",
        "What is the minimum no. of marbles you have to choose randomly from the bag\n",
        "to ensure that we get 4 marbles of same color?\n",
        "\n",
        "**Solution: ** No. of colors (pigeonholes) n = 3\n",
        "No. of marbles (pigeons) K+1 = 4\n",
        "Therefore the minimum no. of marbles required = Kn+1\n",
        "By simplifying we get Kn+1 = 10.\n",
        "Verification: ceil[Average] is [Kn+1/n] = 4\n",
        "[Kn+1/3] = 4\n",
        "Kn+1 = 10\n",
        "i.e., 3 red + 3 white + 3 blue + 1(red or white or blue) = 10"
      ]
    },
    {
      "metadata": {
        "id": "Ashbs1NRIgJO",
        "colab_type": "code",
        "colab": {
          "base_uri": "https://localhost:8080/",
          "height": 85
        },
        "outputId": "12422954-1a38-4d4f-f1b4-f3f8914a515a"
      },
      "cell_type": "code",
      "source": [
        "print(\"Bir torbada 10 kırmızı misket, 10 beyaz misket ve 10 mavi misket vardır.\"+\n",
        "      \"Torbadan rastgele seçilen 4 tane misketin aynı renk olması en az kaç misket seçilmeli?\")\n",
        "print(\"Yuva sayısı: 3\")\n",
        "print(\"Güvercin sayısı: 4\")\n",
        "\n",
        "n = 3\n",
        "K = 3\n",
        "n = (10 - 1) / 3\n",
        "print(\"En az 4 misketin aynı renk olması için \" + str(n) + \" tur misket seçilmelidir.\")"
      ],
      "execution_count": 1,
      "outputs": [
        {
          "output_type": "stream",
          "text": [
            "Bir torbada 10 kırmızı misket, 10 beyaz misket ve 10 mavi misket vardır.Torbadan rastgele seçilen 4 tane misketin aynı renk olması en az kaç misket seçilmeli?\n",
            "Yuva sayısı: 3\n",
            "Güvercin sayısı: 4\n",
            "En az 4 misketin aynı renk olması için 3.0 tur misket seçilmelidir.\n"
          ],
          "name": "stdout"
        }
      ]
    },
    {
      "metadata": {
        "id": "chCKsD_3IdiZ",
        "colab_type": "code",
        "colab": {}
      },
      "cell_type": "code",
      "source": [
        ""
      ],
      "execution_count": 0,
      "outputs": []
    }
  ]
}