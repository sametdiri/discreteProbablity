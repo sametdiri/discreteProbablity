{
  "nbformat": 4,
  "nbformat_minor": 0,
  "metadata": {
    "colab": {
      "name": "Binomial.ipynb",
      "version": "0.3.2",
      "provenance": [],
      "include_colab_link": true
    },
    "kernelspec": {
      "name": "python3",
      "display_name": "Python 3"
    }
  },
  "cells": [
    {
      "cell_type": "markdown",
      "metadata": {
        "id": "view-in-github",
        "colab_type": "text"
      },
      "source": [
        "<a href=\"https://colab.research.google.com/github/sametdiri/discreteProbablity/blob/master/Binomial.ipynb\" target=\"_parent\"><img src=\"https://colab.research.google.com/assets/colab-badge.svg\" alt=\"Open In Colab\"/></a>"
      ]
    },
    {
      "cell_type": "markdown",
      "metadata": {
        "id": "olec2vBNoj34",
        "colab_type": "text"
      },
      "source": [
        "# Binomial\n",
        "\n",
        "**Soru:**\n",
        "Ameliyat edilen hasta sayisi 10'dur, iyilesme olasiligi % 80'dir yani % 80 basarilidir.\n",
        "\n",
        "En az 9 hastanin iyilesme olasiligi nedir?\n",
        "\n",
        "**Cozum:**\n",
        "\n",
        "X~Bin (n=10, p=0.8)\n",
        "\n",
        "P(X>=9) = P(X=9) + P(X=10)\n",
        "\n",
        "P(X>=k) = [ C (n,k) * p^k * (1-p)^n-k ] + [ C (n,k) * p^k * (1-p)^n-k ]\n",
        "\n",
        "P(X>=9) = [ C (10,9) * 0.8^9 * (1-0.8)^10-9 ] + [ C (10,10) * 0.8^10 * (1-0.8)^10-10 ]"
      ]
    },
    {
      "cell_type": "code",
      "metadata": {
        "id": "CFCAA-CwoiYE",
        "colab_type": "code",
        "colab": {
          "base_uri": "https://localhost:8080/",
          "height": 34
        },
        "outputId": "bcb7158a-efe6-4c26-932c-31f594b84b4c"
      },
      "source": [
        "def calc_power (number,up):\n",
        "    \n",
        "    output = 1\n",
        "    \n",
        "    if (up==0): \n",
        "        output = 1\n",
        "    \n",
        "    while up != 0:\n",
        "        output = output * number\n",
        "        up = up - 1\n",
        "\n",
        "    return output\n",
        "\n",
        "def calc_combination(first, second):\n",
        "\n",
        "    minus = first - second\n",
        "    \n",
        "    if (minus==0):\n",
        "        minus_fac = 1\n",
        "        minus = 1\n",
        "    \n",
        "    first_fac = 1\n",
        "    secon_fac = 1\n",
        "    minus_fac = 1\n",
        "    \n",
        "    while first != 1:\n",
        "        first_fac = first * first_fac\n",
        "        first = first - 1\n",
        "\n",
        "    while second != 1:\n",
        "        secon_fac = second * secon_fac\n",
        "        second = second - 1\n",
        "\n",
        "    while minus != 1:\n",
        "        minus_fac = minus * minus_fac\n",
        "        minus = minus - 1\n",
        "\n",
        "    combination_result = first_fac / (secon_fac * minus_fac)\n",
        "\n",
        "    return combination_result\n",
        "\n",
        "n = 10 \n",
        "k = 9\n",
        "p = 0.8\n",
        "\n",
        "com1 = calc_combination (n,k)\n",
        "com2 = calc_power(p,k) \n",
        "com3 = calc_power((1-p),(n-k))\n",
        "probability = com1 * com2 * com3\n",
        "\n",
        "com4 = calc_combination (n,k+1)\n",
        "com5 = calc_power(p,k+1)\n",
        "com6 = calc_power((1-p),(n-(k+1)))\n",
        "probability2 = com4 * com5 * com6\n",
        "\n",
        "print(\"iyilesme olasiligi: \", probability + probability2)"
      ],
      "execution_count": 1,
      "outputs": [
        {
          "output_type": "stream",
          "text": [
            "iyilesme olasiligi:  0.37580963840000015\n"
          ],
          "name": "stdout"
        }
      ]
    }
  ]
}