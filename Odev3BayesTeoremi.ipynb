{
  "nbformat": 4,
  "nbformat_minor": 0,
  "metadata": {
    "colab": {
      "name": "Untitled0.ipynb",
      "version": "0.3.2",
      "provenance": [],
      "include_colab_link": true
    },
    "kernelspec": {
      "name": "python3",
      "display_name": "Python 3"
    }
  },
  "cells": [
    {
      "cell_type": "markdown",
      "metadata": {
        "id": "view-in-github",
        "colab_type": "text"
      },
      "source": [
        "<a href=\"https://colab.research.google.com/github/sametdiri/discreteProbablity/blob/master/Odev3BayesTeoremi.ipynb\" target=\"_parent\"><img src=\"https://colab.research.google.com/assets/colab-badge.svg\" alt=\"Open In Colab\"/></a>"
      ]
    },
    {
      "metadata": {
        "id": "zm3mKpwZzkOf",
        "colab_type": "text"
      },
      "cell_type": "markdown",
      "source": [
        "##Bayes Teoremi\n",
        "\n",
        "\n",
        "\n",
        "##Ödev: 3\n",
        "\n",
        "##Örnek: Kalem Fabrikası\n",
        "\n",
        "Açıklama: Bu ödevde ilgili sunumda var olan bir kalem fabrikasındaki n tane makinada üretilen kalemlerden seçilen kalemin kusurlu olduğu bilindiğine göre seçilen kalemin x makinasında üretilmiş olma olasılığı hesaplanmaktadır.\n",
        "\n",
        ">>>Makinadaki kusurlu üretim\n",
        "\n",
        "Olasılık değeri = -----------------------------------------------------\n",
        "\n",
        ">>>Toplam kusurlu üretim\n",
        "\n",
        "\n",
        "\n",
        "\n",
        ">>> P(B|A) * P(A)\n",
        "\n",
        ">P(A|B) = ------------------------------------\n",
        ">>>>P(B)\n",
        "\n",
        "P(A|B) = B olayı gerçekleştiğinde A olayının gerçekleşme olasılığı\n",
        "\n",
        "P(A) = A olayının gerçekleşme olasılığı\n",
        "\n",
        "P(B|A) = A olayı gerçekleştiğinde B olayının gerçekleşme olasılığı\n",
        "\n",
        "P(B) = B olayının gerçekleşme olasılığı\n",
        "\n"
      ]
    },
    {
      "metadata": {
        "id": "hiJaG35Lzimy",
        "colab_type": "code",
        "colab": {
          "base_uri": "https://localhost:8080/",
          "height": 374
        },
        "outputId": "9a191e25-1af9-43ce-d940-0f3929ca7edd"
      },
      "cell_type": "code",
      "source": [
        "makinaSayisi = 0 #Fabrikada var olan makina sayısı\n",
        "toplamKusurluUretim = 0 #Fabrikada gerçekleştirilen toplam kusurlu üretim oranı\n",
        "print(\"Bu program üretilen kusurlu kalemlerin hangi makinadan üretildiğini tespit etmeye çalışmaktadır.\")\n",
        "print(\"Lütfen makina sayısını 0'dan büyük giriniz!\")\n",
        "print(\"Çok büyük sayı girmeniz durumunda çok fazla veri girmeniz gerektiğini göz önünde bulundurunuz!\")\n",
        "\n",
        "while makinaSayisi < 2:\n",
        "    makinaSayisi = int(input(\"Makina sayısını giriniz:\"), 10)\n",
        "\n",
        "makina      = [None] * makinaSayisi #Makina listesi \"BOŞ\" tanımlanıyor\n",
        "kusurluOran = [None] * makinaSayisi #Kusur oranları listesi \"BOŞ\" tanımlanıyor\n",
        "makinaKusur = [None] * makinaSayisi #Her bir makinadaki kusur oranı listesi \"BOŞ\" tanımlanıyor\n",
        "\n",
        "##Her bir makinaya ait üretim oranı\n",
        "for i in range(makinaSayisi):\n",
        "    makina[i] = input(str(i+1) + \". makinanın üretim oranını % olarak giriniz:\")\n",
        "\n",
        "##Her bir makinaya ait kusurlu üretim oranı\n",
        "for i in range(makinaSayisi):\n",
        "    kusurluOran[i] = input(str(i+1) + \". makinanın kusurlu üretim oranını % olarak giriniz:\")\n",
        "\n",
        "##Seçilen kalem hangi makinada ne oranla kusurlu bir şekilde üretilmiş olabilir?\n",
        "print(\"Bir günlük üretimin ardından seçilen kalemin kusurlu oldugu bilindigine göre;\")\n",
        "kusurluMakina = input(\"1 - \" + str(makinaSayisi) + \". makina arasından hangi makinada üretilmi olma olasılığı hesaplanmalı?\")\n",
        "\n",
        "for i in range(makinaSayisi):\n",
        "    makinaKusur[i] = (int(makina[i], 10) / 100) * (int(kusurluOran[i], 10) / 100)\n",
        "    toplamKusurluUretim += makinaKusur[i]\n",
        "\n",
        "olasilik = makinaKusur[int(kusurluMakina)] / toplamKusurluUretim\n",
        "\n",
        "print(\"-----------------------------------\")\n",
        "print(\"Makinaların üretim oranları\")\n",
        "print(makina)\n",
        "print(\"Kusurlu üretim oranları\")\n",
        "print(kusurluOran)\n",
        "print(\"Makina kusurlu üretim oranları\")\n",
        "print(makinaKusur)\n",
        "print(\"Tüm makinaların toplam kusurlu üretim oranı\")\n",
        "print(toplamKusurluUretim)\n",
        "print(\"Seçilen kusurlu kalemin \" + str(kusurluMakina) + \". makinada üretilmiş olma olasılığı\")\n",
        "print(str(olasilik))"
      ],
      "execution_count": 1,
      "outputs": [
        {
          "output_type": "stream",
          "text": [
            "Bu program üretilen kusurlu kalemlerin hangi makinadan üretildiğini tespit etmeye çalışmaktadır.\n",
            "Lütfen makina sayısını 0'dan büyük giriniz!\n",
            "Çok büyük sayı girmeniz durumunda çok fazla veri girmeniz gerektiğini göz önünde bulundurunuz!\n",
            "Makina sayısını giriniz:2\n",
            "1. makinanın üretim oranını % olarak giriniz:20\n",
            "2. makinanın üretim oranını % olarak giriniz:80\n",
            "1. makinanın kusurlu üretim oranını % olarak giriniz:5\n",
            "2. makinanın kusurlu üretim oranını % olarak giriniz:1\n",
            "Bir günlük üretimin ardından seçilen kalemin kusurlu oldugu bilindigine göre;\n",
            "1 - 2. makina arasından hangi makinada üretilmi olma olasılığı hesaplanmalı?1\n",
            "-----------------------------------\n",
            "Makinaların üretim oranları\n",
            "['20', '80']\n",
            "Kusurlu üretim oranları\n",
            "['5', '1']\n",
            "Makina kusurlu üretim oranları\n",
            "[0.010000000000000002, 0.008]\n",
            "Tüm makinaların toplam kusurlu üretim oranı\n",
            "0.018000000000000002\n",
            "Seçilen kusurlu kalemin 1. makinada üretilmiş olma olasılığı\n",
            "0.4444444444444444\n"
          ],
          "name": "stdout"
        }
      ]
    }
  ]
}